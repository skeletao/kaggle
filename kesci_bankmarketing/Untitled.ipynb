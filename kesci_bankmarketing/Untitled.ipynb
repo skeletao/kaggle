{
 "cells": [
  {
   "cell_type": "code",
   "execution_count": 8,
   "metadata": {},
   "outputs": [],
   "source": [
    "import numpy as np\n",
    "import pandas as pd\n",
    "import xgboost as xbg\n",
    "import lightgbm as lgb\n",
    "import catboost as cbt\n",
    "\n",
    "from sklearn.metrics import f1_score, auc, precision_score, recall_score, precision_recall_curve\n",
    "\n",
    "import matplotlib.pyplot as plt\n",
    "%matplotlib inline"
   ]
  },
  {
   "cell_type": "code",
   "execution_count": 11,
   "metadata": {},
   "outputs": [],
   "source": [
    "train_set = pd.read_csv('input\\\\train_set.csv')\n",
    "test_set = pd.read_csv('input\\\\test_set.csv')"
   ]
  },
  {
   "cell_type": "code",
   "execution_count": 14,
   "metadata": {},
   "outputs": [
    {
     "name": "stdout",
     "output_type": "stream",
     "text": [
      "<class 'pandas.core.frame.DataFrame'>\n",
      "RangeIndex: 25317 entries, 0 to 25316\n",
      "Data columns (total 18 columns):\n",
      " #   Column     Non-Null Count  Dtype \n",
      "---  ------     --------------  ----- \n",
      " 0   ID         25317 non-null  int64 \n",
      " 1   age        25317 non-null  int64 \n",
      " 2   job        25317 non-null  object\n",
      " 3   marital    25317 non-null  object\n",
      " 4   education  25317 non-null  object\n",
      " 5   default    25317 non-null  object\n",
      " 6   balance    25317 non-null  int64 \n",
      " 7   housing    25317 non-null  object\n",
      " 8   loan       25317 non-null  object\n",
      " 9   contact    25317 non-null  object\n",
      " 10  day        25317 non-null  int64 \n",
      " 11  month      25317 non-null  object\n",
      " 12  duration   25317 non-null  int64 \n",
      " 13  campaign   25317 non-null  int64 \n",
      " 14  pdays      25317 non-null  int64 \n",
      " 15  previous   25317 non-null  int64 \n",
      " 16  poutcome   25317 non-null  object\n",
      " 17  y          25317 non-null  int64 \n",
      "dtypes: int64(9), object(9)\n",
      "memory usage: 3.5+ MB\n"
     ]
    }
   ],
   "source": [
    "train_set.info()"
   ]
  },
  {
   "cell_type": "code",
   "execution_count": null,
   "metadata": {},
   "outputs": [],
   "source": []
  }
 ],
 "metadata": {
  "kernelspec": {
   "display_name": "Python 3",
   "language": "python",
   "name": "python3"
  },
  "language_info": {
   "codemirror_mode": {
    "name": "ipython",
    "version": 3
   },
   "file_extension": ".py",
   "mimetype": "text/x-python",
   "name": "python",
   "nbconvert_exporter": "python",
   "pygments_lexer": "ipython3",
   "version": "3.7.1"
  }
 },
 "nbformat": 4,
 "nbformat_minor": 2
}
